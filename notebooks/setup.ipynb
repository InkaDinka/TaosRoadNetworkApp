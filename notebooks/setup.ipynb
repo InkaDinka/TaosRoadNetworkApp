{
 "cells": [
  {
   "cell_type": "code",
   "execution_count": 1,
   "metadata": {},
   "outputs": [],
   "source": [
    "#Test to verify connection to database.\n",
    "import neo4j\n",
    "import os"
   ]
  },
  {
   "cell_type": "code",
   "execution_count": 3,
   "metadata": {},
   "outputs": [],
   "source": [
    "#Creates a driver to connect to neo4j database with credentials that are read from codespace secrets. \n",
    "\n",
    "driver = neo4j.GraphDatabase.driver(os.getenv(\"NEO4J_URI\"), auth=(os.getenv(\"NEO4J_USER\"), os.getenv(\"NEO4J_PASSWORD\")))"
   ]
  },
  {
   "cell_type": "code",
   "execution_count": null,
   "metadata": {},
   "outputs": [],
   "source": [
    "#Cypher query to return all nodes\n",
    "CYPHER_QUERY = \"\"\"\n",
    "MATCH (n) RETURN COUNT(n) AS node_count\n",
    "\"\"\""
   ]
  },
  {
   "cell_type": "code",
   "execution_count": null,
   "metadata": {},
   "outputs": [],
   "source": [
    "#Converts results of query to a python dataframe\n",
    "def get_node_count(tx):\n",
    "    results = tx.run(CYPHER_QUERY)\n",
    "    df = results.to_df()\n",
    "    return df"
   ]
  },
  {
   "cell_type": "code",
   "execution_count": null,
   "metadata": {},
   "outputs": [],
   "source": [
    "#Creates dataframe using the get_node_count function with the current session or state of the database.\n",
    "with driver.session() as session:\n",
    "    df = session.execute_read(get_node_count)"
   ]
  },
  {
   "cell_type": "code",
   "execution_count": null,
   "metadata": {},
   "outputs": [],
   "source": [
    "#Outputs current number of nodes. \n",
    "df"
   ]
  }
 ],
 "metadata": {
  "kernelspec": {
   "display_name": "python-notebook-template-fDOIcEd5-py3.10",
   "language": "python",
   "name": "python3"
  },
  "language_info": {
   "codemirror_mode": {
    "name": "ipython",
    "version": 3
   },
   "file_extension": ".py",
   "mimetype": "text/x-python",
   "name": "python",
   "nbconvert_exporter": "python",
   "pygments_lexer": "ipython3",
   "version": "3.10.13"
  }
 },
 "nbformat": 4,
 "nbformat_minor": 2
}
